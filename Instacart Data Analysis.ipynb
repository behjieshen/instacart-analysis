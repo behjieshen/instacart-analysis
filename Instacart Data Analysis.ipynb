{
 "cells": [
  {
   "cell_type": "markdown",
   "id": "53fd7d8e",
   "metadata": {},
   "source": [
    "# Instacart Data Analysis"
   ]
  },
  {
   "cell_type": "code",
   "execution_count": 1,
   "id": "eac221f0",
   "metadata": {},
   "outputs": [],
   "source": [
    "# Import packages\n",
    "\n",
    "import pandas as pd\n",
    "import numpy as np\n",
    "import seaborn as sns\n",
    "import matplotlib.pyplot as plt\n",
    "import scipy.stats as st\n",
    "import plotly.express as px\n",
    "import math\n",
    "from statsmodels.stats import weightstats as stests"
   ]
  },
  {
   "cell_type": "code",
   "execution_count": 2,
   "id": "f0415ce5",
   "metadata": {},
   "outputs": [],
   "source": [
    "# Import datasets\n",
    "\n",
    "orders = pd.read_csv(\"./orders.csv\")\n",
    "products = pd.read_csv(\"./products.csv\")\n",
    "aisles = pd.read_csv(\"./aisles.csv\")\n",
    "departments = pd.read_csv(\"./departments.csv\")\n",
    "order_products_prior = pd.read_csv(\"./order_products__prior.csv\")\n",
    "order_products_train = pd.read_csv(\"./order_products__train.csv\")"
   ]
  },
  {
   "cell_type": "code",
   "execution_count": 3,
   "id": "5b483537",
   "metadata": {},
   "outputs": [],
   "source": [
    "# Combine prior and train together\n",
    "\n",
    "order_products = pd.concat([order_products_prior, order_products_train])"
   ]
  },
  {
   "cell_type": "code",
   "execution_count": 4,
   "id": "74d49c29",
   "metadata": {},
   "outputs": [
    {
     "data": {
      "text/html": [
       "<div>\n",
       "<style scoped>\n",
       "    .dataframe tbody tr th:only-of-type {\n",
       "        vertical-align: middle;\n",
       "    }\n",
       "\n",
       "    .dataframe tbody tr th {\n",
       "        vertical-align: top;\n",
       "    }\n",
       "\n",
       "    .dataframe thead th {\n",
       "        text-align: right;\n",
       "    }\n",
       "</style>\n",
       "<table border=\"1\" class=\"dataframe\">\n",
       "  <thead>\n",
       "    <tr style=\"text-align: right;\">\n",
       "      <th></th>\n",
       "      <th>order_id</th>\n",
       "      <th>product_id</th>\n",
       "      <th>add_to_cart_order</th>\n",
       "      <th>reordered</th>\n",
       "    </tr>\n",
       "  </thead>\n",
       "  <tbody>\n",
       "    <tr>\n",
       "      <th>0</th>\n",
       "      <td>2</td>\n",
       "      <td>33120</td>\n",
       "      <td>1</td>\n",
       "      <td>1</td>\n",
       "    </tr>\n",
       "    <tr>\n",
       "      <th>1</th>\n",
       "      <td>2</td>\n",
       "      <td>28985</td>\n",
       "      <td>2</td>\n",
       "      <td>1</td>\n",
       "    </tr>\n",
       "    <tr>\n",
       "      <th>2</th>\n",
       "      <td>2</td>\n",
       "      <td>9327</td>\n",
       "      <td>3</td>\n",
       "      <td>0</td>\n",
       "    </tr>\n",
       "    <tr>\n",
       "      <th>3</th>\n",
       "      <td>2</td>\n",
       "      <td>45918</td>\n",
       "      <td>4</td>\n",
       "      <td>1</td>\n",
       "    </tr>\n",
       "    <tr>\n",
       "      <th>4</th>\n",
       "      <td>2</td>\n",
       "      <td>30035</td>\n",
       "      <td>5</td>\n",
       "      <td>0</td>\n",
       "    </tr>\n",
       "  </tbody>\n",
       "</table>\n",
       "</div>"
      ],
      "text/plain": [
       "   order_id  product_id  add_to_cart_order  reordered\n",
       "0         2       33120                  1          1\n",
       "1         2       28985                  2          1\n",
       "2         2        9327                  3          0\n",
       "3         2       45918                  4          1\n",
       "4         2       30035                  5          0"
      ]
     },
     "execution_count": 4,
     "metadata": {},
     "output_type": "execute_result"
    }
   ],
   "source": [
    "order_products.head()"
   ]
  },
  {
   "cell_type": "markdown",
   "id": "cbc4eed5",
   "metadata": {},
   "source": [
    "## Check if there are null values"
   ]
  },
  {
   "cell_type": "code",
   "execution_count": 5,
   "id": "2aa86897",
   "metadata": {},
   "outputs": [
    {
     "data": {
      "text/plain": [
       "order_id                       0\n",
       "user_id                        0\n",
       "eval_set                       0\n",
       "order_number                   0\n",
       "order_dow                      0\n",
       "order_hour_of_day              0\n",
       "days_since_prior_order    206209\n",
       "dtype: int64"
      ]
     },
     "execution_count": 5,
     "metadata": {},
     "output_type": "execute_result"
    }
   ],
   "source": [
    "orders.isnull().sum()"
   ]
  },
  {
   "cell_type": "markdown",
   "id": "dc1f0e51",
   "metadata": {},
   "source": [
    "#### For this, the NaN values in days_since_prior_order means that it is the first order."
   ]
  },
  {
   "cell_type": "code",
   "execution_count": 6,
   "id": "ff1eebfa",
   "metadata": {},
   "outputs": [
    {
     "name": "stdout",
     "output_type": "stream",
     "text": [
      "<class 'pandas.core.frame.DataFrame'>\n",
      "RangeIndex: 3421083 entries, 0 to 3421082\n",
      "Data columns (total 7 columns):\n",
      " #   Column                  Dtype  \n",
      "---  ------                  -----  \n",
      " 0   order_id                int64  \n",
      " 1   user_id                 int64  \n",
      " 2   eval_set                object \n",
      " 3   order_number            int64  \n",
      " 4   order_dow               int64  \n",
      " 5   order_hour_of_day       int64  \n",
      " 6   days_since_prior_order  float64\n",
      "dtypes: float64(1), int64(5), object(1)\n",
      "memory usage: 182.7+ MB\n"
     ]
    }
   ],
   "source": [
    "orders.info()"
   ]
  },
  {
   "cell_type": "code",
   "execution_count": 7,
   "id": "d8ccfdb8",
   "metadata": {},
   "outputs": [
    {
     "data": {
      "text/plain": [
       "product_id       0\n",
       "product_name     0\n",
       "aisle_id         0\n",
       "department_id    0\n",
       "dtype: int64"
      ]
     },
     "execution_count": 7,
     "metadata": {},
     "output_type": "execute_result"
    }
   ],
   "source": [
    "products.isnull().sum()"
   ]
  },
  {
   "cell_type": "code",
   "execution_count": 8,
   "id": "ef7b8659",
   "metadata": {},
   "outputs": [
    {
     "name": "stdout",
     "output_type": "stream",
     "text": [
      "<class 'pandas.core.frame.DataFrame'>\n",
      "RangeIndex: 49688 entries, 0 to 49687\n",
      "Data columns (total 4 columns):\n",
      " #   Column         Non-Null Count  Dtype \n",
      "---  ------         --------------  ----- \n",
      " 0   product_id     49688 non-null  int64 \n",
      " 1   product_name   49688 non-null  object\n",
      " 2   aisle_id       49688 non-null  int64 \n",
      " 3   department_id  49688 non-null  int64 \n",
      "dtypes: int64(3), object(1)\n",
      "memory usage: 1.5+ MB\n"
     ]
    }
   ],
   "source": [
    "products.info()"
   ]
  },
  {
   "cell_type": "code",
   "execution_count": 9,
   "id": "f69fd202",
   "metadata": {},
   "outputs": [
    {
     "data": {
      "text/plain": [
       "aisle_id    0\n",
       "aisle       0\n",
       "dtype: int64"
      ]
     },
     "execution_count": 9,
     "metadata": {},
     "output_type": "execute_result"
    }
   ],
   "source": [
    "aisles.isnull().sum()"
   ]
  },
  {
   "cell_type": "code",
   "execution_count": 10,
   "id": "f7a023f2",
   "metadata": {},
   "outputs": [
    {
     "name": "stdout",
     "output_type": "stream",
     "text": [
      "<class 'pandas.core.frame.DataFrame'>\n",
      "RangeIndex: 134 entries, 0 to 133\n",
      "Data columns (total 2 columns):\n",
      " #   Column    Non-Null Count  Dtype \n",
      "---  ------    --------------  ----- \n",
      " 0   aisle_id  134 non-null    int64 \n",
      " 1   aisle     134 non-null    object\n",
      "dtypes: int64(1), object(1)\n",
      "memory usage: 2.2+ KB\n"
     ]
    }
   ],
   "source": [
    "aisles.info()"
   ]
  },
  {
   "cell_type": "code",
   "execution_count": 11,
   "id": "b3160e1e",
   "metadata": {},
   "outputs": [
    {
     "data": {
      "text/plain": [
       "department_id    0\n",
       "department       0\n",
       "dtype: int64"
      ]
     },
     "execution_count": 11,
     "metadata": {},
     "output_type": "execute_result"
    }
   ],
   "source": [
    "departments.isnull().sum()"
   ]
  },
  {
   "cell_type": "code",
   "execution_count": 12,
   "id": "74eeea1a",
   "metadata": {},
   "outputs": [
    {
     "name": "stdout",
     "output_type": "stream",
     "text": [
      "<class 'pandas.core.frame.DataFrame'>\n",
      "RangeIndex: 21 entries, 0 to 20\n",
      "Data columns (total 2 columns):\n",
      " #   Column         Non-Null Count  Dtype \n",
      "---  ------         --------------  ----- \n",
      " 0   department_id  21 non-null     int64 \n",
      " 1   department     21 non-null     object\n",
      "dtypes: int64(1), object(1)\n",
      "memory usage: 464.0+ bytes\n"
     ]
    }
   ],
   "source": [
    "departments.info()"
   ]
  },
  {
   "cell_type": "code",
   "execution_count": 13,
   "id": "f4cebd56",
   "metadata": {},
   "outputs": [
    {
     "data": {
      "text/plain": [
       "order_id             0\n",
       "product_id           0\n",
       "add_to_cart_order    0\n",
       "reordered            0\n",
       "dtype: int64"
      ]
     },
     "execution_count": 13,
     "metadata": {},
     "output_type": "execute_result"
    }
   ],
   "source": [
    "order_products.isnull().sum()"
   ]
  },
  {
   "cell_type": "code",
   "execution_count": 14,
   "id": "0b17f1fe",
   "metadata": {},
   "outputs": [
    {
     "name": "stdout",
     "output_type": "stream",
     "text": [
      "<class 'pandas.core.frame.DataFrame'>\n",
      "Int64Index: 33819106 entries, 0 to 1384616\n",
      "Data columns (total 4 columns):\n",
      " #   Column             Dtype\n",
      "---  ------             -----\n",
      " 0   order_id           int64\n",
      " 1   product_id         int64\n",
      " 2   add_to_cart_order  int64\n",
      " 3   reordered          int64\n",
      "dtypes: int64(4)\n",
      "memory usage: 1.3 GB\n"
     ]
    }
   ],
   "source": [
    "order_products.info()"
   ]
  },
  {
   "cell_type": "markdown",
   "id": "0a83e39a",
   "metadata": {},
   "source": [
    "### Conclusion: There are no null values."
   ]
  },
  {
   "cell_type": "markdown",
   "id": "09907397",
   "metadata": {},
   "source": [
    "# Merging Data Together"
   ]
  },
  {
   "cell_type": "code",
   "execution_count": 15,
   "id": "166fcf5c",
   "metadata": {},
   "outputs": [
    {
     "data": {
      "text/html": [
       "<div>\n",
       "<style scoped>\n",
       "    .dataframe tbody tr th:only-of-type {\n",
       "        vertical-align: middle;\n",
       "    }\n",
       "\n",
       "    .dataframe tbody tr th {\n",
       "        vertical-align: top;\n",
       "    }\n",
       "\n",
       "    .dataframe thead th {\n",
       "        text-align: right;\n",
       "    }\n",
       "</style>\n",
       "<table border=\"1\" class=\"dataframe\">\n",
       "  <thead>\n",
       "    <tr style=\"text-align: right;\">\n",
       "      <th></th>\n",
       "      <th>product_id</th>\n",
       "      <th>product_name</th>\n",
       "      <th>aisle_id</th>\n",
       "      <th>department_id</th>\n",
       "    </tr>\n",
       "  </thead>\n",
       "  <tbody>\n",
       "    <tr>\n",
       "      <th>0</th>\n",
       "      <td>1</td>\n",
       "      <td>Chocolate Sandwich Cookies</td>\n",
       "      <td>61</td>\n",
       "      <td>19</td>\n",
       "    </tr>\n",
       "    <tr>\n",
       "      <th>1</th>\n",
       "      <td>2</td>\n",
       "      <td>All-Seasons Salt</td>\n",
       "      <td>104</td>\n",
       "      <td>13</td>\n",
       "    </tr>\n",
       "    <tr>\n",
       "      <th>2</th>\n",
       "      <td>3</td>\n",
       "      <td>Robust Golden Unsweetened Oolong Tea</td>\n",
       "      <td>94</td>\n",
       "      <td>7</td>\n",
       "    </tr>\n",
       "    <tr>\n",
       "      <th>3</th>\n",
       "      <td>4</td>\n",
       "      <td>Smart Ones Classic Favorites Mini Rigatoni Wit...</td>\n",
       "      <td>38</td>\n",
       "      <td>1</td>\n",
       "    </tr>\n",
       "    <tr>\n",
       "      <th>4</th>\n",
       "      <td>5</td>\n",
       "      <td>Green Chile Anytime Sauce</td>\n",
       "      <td>5</td>\n",
       "      <td>13</td>\n",
       "    </tr>\n",
       "  </tbody>\n",
       "</table>\n",
       "</div>"
      ],
      "text/plain": [
       "   product_id                                       product_name  aisle_id  \\\n",
       "0           1                         Chocolate Sandwich Cookies        61   \n",
       "1           2                                   All-Seasons Salt       104   \n",
       "2           3               Robust Golden Unsweetened Oolong Tea        94   \n",
       "3           4  Smart Ones Classic Favorites Mini Rigatoni Wit...        38   \n",
       "4           5                          Green Chile Anytime Sauce         5   \n",
       "\n",
       "   department_id  \n",
       "0             19  \n",
       "1             13  \n",
       "2              7  \n",
       "3              1  \n",
       "4             13  "
      ]
     },
     "execution_count": 15,
     "metadata": {},
     "output_type": "execute_result"
    }
   ],
   "source": [
    "# Before merging\n",
    "\n",
    "products.head()"
   ]
  },
  {
   "cell_type": "code",
   "execution_count": 16,
   "id": "9f3d827c",
   "metadata": {},
   "outputs": [
    {
     "data": {
      "text/html": [
       "<div>\n",
       "<style scoped>\n",
       "    .dataframe tbody tr th:only-of-type {\n",
       "        vertical-align: middle;\n",
       "    }\n",
       "\n",
       "    .dataframe tbody tr th {\n",
       "        vertical-align: top;\n",
       "    }\n",
       "\n",
       "    .dataframe thead th {\n",
       "        text-align: right;\n",
       "    }\n",
       "</style>\n",
       "<table border=\"1\" class=\"dataframe\">\n",
       "  <thead>\n",
       "    <tr style=\"text-align: right;\">\n",
       "      <th></th>\n",
       "      <th>order_id</th>\n",
       "      <th>product_id</th>\n",
       "      <th>add_to_cart_order</th>\n",
       "      <th>reordered</th>\n",
       "      <th>product_name</th>\n",
       "      <th>aisle_id</th>\n",
       "      <th>department_id</th>\n",
       "    </tr>\n",
       "  </thead>\n",
       "  <tbody>\n",
       "    <tr>\n",
       "      <th>0</th>\n",
       "      <td>2</td>\n",
       "      <td>33120</td>\n",
       "      <td>1</td>\n",
       "      <td>1</td>\n",
       "      <td>Organic Egg Whites</td>\n",
       "      <td>86</td>\n",
       "      <td>16</td>\n",
       "    </tr>\n",
       "    <tr>\n",
       "      <th>1</th>\n",
       "      <td>26</td>\n",
       "      <td>33120</td>\n",
       "      <td>5</td>\n",
       "      <td>0</td>\n",
       "      <td>Organic Egg Whites</td>\n",
       "      <td>86</td>\n",
       "      <td>16</td>\n",
       "    </tr>\n",
       "    <tr>\n",
       "      <th>2</th>\n",
       "      <td>120</td>\n",
       "      <td>33120</td>\n",
       "      <td>13</td>\n",
       "      <td>0</td>\n",
       "      <td>Organic Egg Whites</td>\n",
       "      <td>86</td>\n",
       "      <td>16</td>\n",
       "    </tr>\n",
       "    <tr>\n",
       "      <th>3</th>\n",
       "      <td>327</td>\n",
       "      <td>33120</td>\n",
       "      <td>5</td>\n",
       "      <td>1</td>\n",
       "      <td>Organic Egg Whites</td>\n",
       "      <td>86</td>\n",
       "      <td>16</td>\n",
       "    </tr>\n",
       "    <tr>\n",
       "      <th>4</th>\n",
       "      <td>390</td>\n",
       "      <td>33120</td>\n",
       "      <td>28</td>\n",
       "      <td>1</td>\n",
       "      <td>Organic Egg Whites</td>\n",
       "      <td>86</td>\n",
       "      <td>16</td>\n",
       "    </tr>\n",
       "  </tbody>\n",
       "</table>\n",
       "</div>"
      ],
      "text/plain": [
       "   order_id  product_id  add_to_cart_order  reordered        product_name  \\\n",
       "0         2       33120                  1          1  Organic Egg Whites   \n",
       "1        26       33120                  5          0  Organic Egg Whites   \n",
       "2       120       33120                 13          0  Organic Egg Whites   \n",
       "3       327       33120                  5          1  Organic Egg Whites   \n",
       "4       390       33120                 28          1  Organic Egg Whites   \n",
       "\n",
       "   aisle_id  department_id  \n",
       "0        86             16  \n",
       "1        86             16  \n",
       "2        86             16  \n",
       "3        86             16  \n",
       "4        86             16  "
      ]
     },
     "execution_count": 16,
     "metadata": {},
     "output_type": "execute_result"
    }
   ],
   "source": [
    "# Merge order_products with products\n",
    "\n",
    "df = pd.merge(order_products, products, on=\"product_id\")\n",
    "df.head()"
   ]
  },
  {
   "cell_type": "code",
   "execution_count": 17,
   "id": "ef1a5055",
   "metadata": {},
   "outputs": [
    {
     "data": {
      "text/html": [
       "<div>\n",
       "<style scoped>\n",
       "    .dataframe tbody tr th:only-of-type {\n",
       "        vertical-align: middle;\n",
       "    }\n",
       "\n",
       "    .dataframe tbody tr th {\n",
       "        vertical-align: top;\n",
       "    }\n",
       "\n",
       "    .dataframe thead th {\n",
       "        text-align: right;\n",
       "    }\n",
       "</style>\n",
       "<table border=\"1\" class=\"dataframe\">\n",
       "  <thead>\n",
       "    <tr style=\"text-align: right;\">\n",
       "      <th></th>\n",
       "      <th>order_id</th>\n",
       "      <th>product_id</th>\n",
       "      <th>add_to_cart_order</th>\n",
       "      <th>reordered</th>\n",
       "      <th>product_name</th>\n",
       "      <th>aisle_id</th>\n",
       "      <th>department_id</th>\n",
       "      <th>user_id</th>\n",
       "      <th>eval_set</th>\n",
       "      <th>order_number</th>\n",
       "      <th>order_dow</th>\n",
       "      <th>order_hour_of_day</th>\n",
       "      <th>days_since_prior_order</th>\n",
       "    </tr>\n",
       "  </thead>\n",
       "  <tbody>\n",
       "    <tr>\n",
       "      <th>0</th>\n",
       "      <td>2</td>\n",
       "      <td>33120</td>\n",
       "      <td>1</td>\n",
       "      <td>1</td>\n",
       "      <td>Organic Egg Whites</td>\n",
       "      <td>86</td>\n",
       "      <td>16</td>\n",
       "      <td>202279</td>\n",
       "      <td>prior</td>\n",
       "      <td>3</td>\n",
       "      <td>5</td>\n",
       "      <td>9</td>\n",
       "      <td>8.0</td>\n",
       "    </tr>\n",
       "    <tr>\n",
       "      <th>1</th>\n",
       "      <td>2</td>\n",
       "      <td>28985</td>\n",
       "      <td>2</td>\n",
       "      <td>1</td>\n",
       "      <td>Michigan Organic Kale</td>\n",
       "      <td>83</td>\n",
       "      <td>4</td>\n",
       "      <td>202279</td>\n",
       "      <td>prior</td>\n",
       "      <td>3</td>\n",
       "      <td>5</td>\n",
       "      <td>9</td>\n",
       "      <td>8.0</td>\n",
       "    </tr>\n",
       "    <tr>\n",
       "      <th>2</th>\n",
       "      <td>2</td>\n",
       "      <td>9327</td>\n",
       "      <td>3</td>\n",
       "      <td>0</td>\n",
       "      <td>Garlic Powder</td>\n",
       "      <td>104</td>\n",
       "      <td>13</td>\n",
       "      <td>202279</td>\n",
       "      <td>prior</td>\n",
       "      <td>3</td>\n",
       "      <td>5</td>\n",
       "      <td>9</td>\n",
       "      <td>8.0</td>\n",
       "    </tr>\n",
       "    <tr>\n",
       "      <th>3</th>\n",
       "      <td>2</td>\n",
       "      <td>45918</td>\n",
       "      <td>4</td>\n",
       "      <td>1</td>\n",
       "      <td>Coconut Butter</td>\n",
       "      <td>19</td>\n",
       "      <td>13</td>\n",
       "      <td>202279</td>\n",
       "      <td>prior</td>\n",
       "      <td>3</td>\n",
       "      <td>5</td>\n",
       "      <td>9</td>\n",
       "      <td>8.0</td>\n",
       "    </tr>\n",
       "    <tr>\n",
       "      <th>4</th>\n",
       "      <td>2</td>\n",
       "      <td>30035</td>\n",
       "      <td>5</td>\n",
       "      <td>0</td>\n",
       "      <td>Natural Sweetener</td>\n",
       "      <td>17</td>\n",
       "      <td>13</td>\n",
       "      <td>202279</td>\n",
       "      <td>prior</td>\n",
       "      <td>3</td>\n",
       "      <td>5</td>\n",
       "      <td>9</td>\n",
       "      <td>8.0</td>\n",
       "    </tr>\n",
       "  </tbody>\n",
       "</table>\n",
       "</div>"
      ],
      "text/plain": [
       "   order_id  product_id  add_to_cart_order  reordered           product_name  \\\n",
       "0         2       33120                  1          1     Organic Egg Whites   \n",
       "1         2       28985                  2          1  Michigan Organic Kale   \n",
       "2         2        9327                  3          0          Garlic Powder   \n",
       "3         2       45918                  4          1         Coconut Butter   \n",
       "4         2       30035                  5          0      Natural Sweetener   \n",
       "\n",
       "   aisle_id  department_id  user_id eval_set  order_number  order_dow  \\\n",
       "0        86             16   202279    prior             3          5   \n",
       "1        83              4   202279    prior             3          5   \n",
       "2       104             13   202279    prior             3          5   \n",
       "3        19             13   202279    prior             3          5   \n",
       "4        17             13   202279    prior             3          5   \n",
       "\n",
       "   order_hour_of_day  days_since_prior_order  \n",
       "0                  9                     8.0  \n",
       "1                  9                     8.0  \n",
       "2                  9                     8.0  \n",
       "3                  9                     8.0  \n",
       "4                  9                     8.0  "
      ]
     },
     "execution_count": 17,
     "metadata": {},
     "output_type": "execute_result"
    }
   ],
   "source": [
    "# Merge with orders\n",
    "\n",
    "df = pd.merge(df, orders, on=\"order_id\")\n",
    "df.head()"
   ]
  },
  {
   "cell_type": "code",
   "execution_count": 18,
   "id": "3fb91873",
   "metadata": {},
   "outputs": [
    {
     "data": {
      "text/html": [
       "<div>\n",
       "<style scoped>\n",
       "    .dataframe tbody tr th:only-of-type {\n",
       "        vertical-align: middle;\n",
       "    }\n",
       "\n",
       "    .dataframe tbody tr th {\n",
       "        vertical-align: top;\n",
       "    }\n",
       "\n",
       "    .dataframe thead th {\n",
       "        text-align: right;\n",
       "    }\n",
       "</style>\n",
       "<table border=\"1\" class=\"dataframe\">\n",
       "  <thead>\n",
       "    <tr style=\"text-align: right;\">\n",
       "      <th></th>\n",
       "      <th>order_id</th>\n",
       "      <th>product_id</th>\n",
       "      <th>add_to_cart_order</th>\n",
       "      <th>reordered</th>\n",
       "      <th>product_name</th>\n",
       "      <th>aisle_id</th>\n",
       "      <th>department_id</th>\n",
       "      <th>user_id</th>\n",
       "      <th>eval_set</th>\n",
       "      <th>order_number</th>\n",
       "      <th>order_dow</th>\n",
       "      <th>order_hour_of_day</th>\n",
       "      <th>days_since_prior_order</th>\n",
       "      <th>aisle</th>\n",
       "    </tr>\n",
       "  </thead>\n",
       "  <tbody>\n",
       "    <tr>\n",
       "      <th>0</th>\n",
       "      <td>2</td>\n",
       "      <td>33120</td>\n",
       "      <td>1</td>\n",
       "      <td>1</td>\n",
       "      <td>Organic Egg Whites</td>\n",
       "      <td>86</td>\n",
       "      <td>16</td>\n",
       "      <td>202279</td>\n",
       "      <td>prior</td>\n",
       "      <td>3</td>\n",
       "      <td>5</td>\n",
       "      <td>9</td>\n",
       "      <td>8.0</td>\n",
       "      <td>eggs</td>\n",
       "    </tr>\n",
       "    <tr>\n",
       "      <th>1</th>\n",
       "      <td>26</td>\n",
       "      <td>33120</td>\n",
       "      <td>5</td>\n",
       "      <td>0</td>\n",
       "      <td>Organic Egg Whites</td>\n",
       "      <td>86</td>\n",
       "      <td>16</td>\n",
       "      <td>153404</td>\n",
       "      <td>prior</td>\n",
       "      <td>2</td>\n",
       "      <td>0</td>\n",
       "      <td>16</td>\n",
       "      <td>7.0</td>\n",
       "      <td>eggs</td>\n",
       "    </tr>\n",
       "    <tr>\n",
       "      <th>2</th>\n",
       "      <td>120</td>\n",
       "      <td>33120</td>\n",
       "      <td>13</td>\n",
       "      <td>0</td>\n",
       "      <td>Organic Egg Whites</td>\n",
       "      <td>86</td>\n",
       "      <td>16</td>\n",
       "      <td>23750</td>\n",
       "      <td>prior</td>\n",
       "      <td>11</td>\n",
       "      <td>6</td>\n",
       "      <td>8</td>\n",
       "      <td>10.0</td>\n",
       "      <td>eggs</td>\n",
       "    </tr>\n",
       "    <tr>\n",
       "      <th>3</th>\n",
       "      <td>327</td>\n",
       "      <td>33120</td>\n",
       "      <td>5</td>\n",
       "      <td>1</td>\n",
       "      <td>Organic Egg Whites</td>\n",
       "      <td>86</td>\n",
       "      <td>16</td>\n",
       "      <td>58707</td>\n",
       "      <td>prior</td>\n",
       "      <td>21</td>\n",
       "      <td>6</td>\n",
       "      <td>9</td>\n",
       "      <td>8.0</td>\n",
       "      <td>eggs</td>\n",
       "    </tr>\n",
       "    <tr>\n",
       "      <th>4</th>\n",
       "      <td>390</td>\n",
       "      <td>33120</td>\n",
       "      <td>28</td>\n",
       "      <td>1</td>\n",
       "      <td>Organic Egg Whites</td>\n",
       "      <td>86</td>\n",
       "      <td>16</td>\n",
       "      <td>166654</td>\n",
       "      <td>prior</td>\n",
       "      <td>48</td>\n",
       "      <td>0</td>\n",
       "      <td>12</td>\n",
       "      <td>9.0</td>\n",
       "      <td>eggs</td>\n",
       "    </tr>\n",
       "  </tbody>\n",
       "</table>\n",
       "</div>"
      ],
      "text/plain": [
       "   order_id  product_id  add_to_cart_order  reordered        product_name  \\\n",
       "0         2       33120                  1          1  Organic Egg Whites   \n",
       "1        26       33120                  5          0  Organic Egg Whites   \n",
       "2       120       33120                 13          0  Organic Egg Whites   \n",
       "3       327       33120                  5          1  Organic Egg Whites   \n",
       "4       390       33120                 28          1  Organic Egg Whites   \n",
       "\n",
       "   aisle_id  department_id  user_id eval_set  order_number  order_dow  \\\n",
       "0        86             16   202279    prior             3          5   \n",
       "1        86             16   153404    prior             2          0   \n",
       "2        86             16    23750    prior            11          6   \n",
       "3        86             16    58707    prior            21          6   \n",
       "4        86             16   166654    prior            48          0   \n",
       "\n",
       "   order_hour_of_day  days_since_prior_order aisle  \n",
       "0                  9                     8.0  eggs  \n",
       "1                 16                     7.0  eggs  \n",
       "2                  8                    10.0  eggs  \n",
       "3                  9                     8.0  eggs  \n",
       "4                 12                     9.0  eggs  "
      ]
     },
     "execution_count": 18,
     "metadata": {},
     "output_type": "execute_result"
    }
   ],
   "source": [
    "# Merge with aisles\n",
    "\n",
    "df = pd.merge(df, aisles, on=\"aisle_id\")\n",
    "df.head()"
   ]
  },
  {
   "cell_type": "code",
   "execution_count": 19,
   "id": "b466fca7",
   "metadata": {},
   "outputs": [
    {
     "data": {
      "text/html": [
       "<div>\n",
       "<style scoped>\n",
       "    .dataframe tbody tr th:only-of-type {\n",
       "        vertical-align: middle;\n",
       "    }\n",
       "\n",
       "    .dataframe tbody tr th {\n",
       "        vertical-align: top;\n",
       "    }\n",
       "\n",
       "    .dataframe thead th {\n",
       "        text-align: right;\n",
       "    }\n",
       "</style>\n",
       "<table border=\"1\" class=\"dataframe\">\n",
       "  <thead>\n",
       "    <tr style=\"text-align: right;\">\n",
       "      <th></th>\n",
       "      <th>order_id</th>\n",
       "      <th>product_id</th>\n",
       "      <th>add_to_cart_order</th>\n",
       "      <th>reordered</th>\n",
       "      <th>product_name</th>\n",
       "      <th>aisle_id</th>\n",
       "      <th>department_id</th>\n",
       "      <th>user_id</th>\n",
       "      <th>eval_set</th>\n",
       "      <th>order_number</th>\n",
       "      <th>order_dow</th>\n",
       "      <th>order_hour_of_day</th>\n",
       "      <th>days_since_prior_order</th>\n",
       "      <th>aisle</th>\n",
       "      <th>department</th>\n",
       "    </tr>\n",
       "  </thead>\n",
       "  <tbody>\n",
       "    <tr>\n",
       "      <th>3035339</th>\n",
       "      <td>1</td>\n",
       "      <td>49302</td>\n",
       "      <td>1</td>\n",
       "      <td>1</td>\n",
       "      <td>Bulgarian Yogurt</td>\n",
       "      <td>120</td>\n",
       "      <td>16</td>\n",
       "      <td>112108</td>\n",
       "      <td>train</td>\n",
       "      <td>4</td>\n",
       "      <td>4</td>\n",
       "      <td>10</td>\n",
       "      <td>9.0</td>\n",
       "      <td>yogurt</td>\n",
       "      <td>dairy eggs</td>\n",
       "    </tr>\n",
       "    <tr>\n",
       "      <th>30448492</th>\n",
       "      <td>1</td>\n",
       "      <td>43633</td>\n",
       "      <td>5</td>\n",
       "      <td>1</td>\n",
       "      <td>Lightly Smoked Sardines in Olive Oil</td>\n",
       "      <td>95</td>\n",
       "      <td>15</td>\n",
       "      <td>112108</td>\n",
       "      <td>train</td>\n",
       "      <td>4</td>\n",
       "      <td>4</td>\n",
       "      <td>10</td>\n",
       "      <td>9.0</td>\n",
       "      <td>canned meat seafood</td>\n",
       "      <td>canned goods</td>\n",
       "    </tr>\n",
       "    <tr>\n",
       "      <th>7240540</th>\n",
       "      <td>1</td>\n",
       "      <td>10246</td>\n",
       "      <td>3</td>\n",
       "      <td>0</td>\n",
       "      <td>Organic Celery Hearts</td>\n",
       "      <td>83</td>\n",
       "      <td>4</td>\n",
       "      <td>112108</td>\n",
       "      <td>train</td>\n",
       "      <td>4</td>\n",
       "      <td>4</td>\n",
       "      <td>10</td>\n",
       "      <td>9.0</td>\n",
       "      <td>fresh vegetables</td>\n",
       "      <td>produce</td>\n",
       "    </tr>\n",
       "    <tr>\n",
       "      <th>7240539</th>\n",
       "      <td>1</td>\n",
       "      <td>49683</td>\n",
       "      <td>4</td>\n",
       "      <td>0</td>\n",
       "      <td>Cucumber Kirby</td>\n",
       "      <td>83</td>\n",
       "      <td>4</td>\n",
       "      <td>112108</td>\n",
       "      <td>train</td>\n",
       "      <td>4</td>\n",
       "      <td>4</td>\n",
       "      <td>10</td>\n",
       "      <td>9.0</td>\n",
       "      <td>fresh vegetables</td>\n",
       "      <td>produce</td>\n",
       "    </tr>\n",
       "    <tr>\n",
       "      <th>2258351</th>\n",
       "      <td>1</td>\n",
       "      <td>11109</td>\n",
       "      <td>2</td>\n",
       "      <td>1</td>\n",
       "      <td>Organic 4% Milk Fat Whole Milk Cottage Cheese</td>\n",
       "      <td>108</td>\n",
       "      <td>16</td>\n",
       "      <td>112108</td>\n",
       "      <td>train</td>\n",
       "      <td>4</td>\n",
       "      <td>4</td>\n",
       "      <td>10</td>\n",
       "      <td>9.0</td>\n",
       "      <td>other creams cheeses</td>\n",
       "      <td>dairy eggs</td>\n",
       "    </tr>\n",
       "  </tbody>\n",
       "</table>\n",
       "</div>"
      ],
      "text/plain": [
       "          order_id  product_id  add_to_cart_order  reordered  \\\n",
       "3035339          1       49302                  1          1   \n",
       "30448492         1       43633                  5          1   \n",
       "7240540          1       10246                  3          0   \n",
       "7240539          1       49683                  4          0   \n",
       "2258351          1       11109                  2          1   \n",
       "\n",
       "                                           product_name  aisle_id  \\\n",
       "3035339                                Bulgarian Yogurt       120   \n",
       "30448492           Lightly Smoked Sardines in Olive Oil        95   \n",
       "7240540                           Organic Celery Hearts        83   \n",
       "7240539                                  Cucumber Kirby        83   \n",
       "2258351   Organic 4% Milk Fat Whole Milk Cottage Cheese       108   \n",
       "\n",
       "          department_id  user_id eval_set  order_number  order_dow  \\\n",
       "3035339              16   112108    train             4          4   \n",
       "30448492             15   112108    train             4          4   \n",
       "7240540               4   112108    train             4          4   \n",
       "7240539               4   112108    train             4          4   \n",
       "2258351              16   112108    train             4          4   \n",
       "\n",
       "          order_hour_of_day  days_since_prior_order                 aisle  \\\n",
       "3035339                  10                     9.0                yogurt   \n",
       "30448492                 10                     9.0   canned meat seafood   \n",
       "7240540                  10                     9.0      fresh vegetables   \n",
       "7240539                  10                     9.0      fresh vegetables   \n",
       "2258351                  10                     9.0  other creams cheeses   \n",
       "\n",
       "            department  \n",
       "3035339     dairy eggs  \n",
       "30448492  canned goods  \n",
       "7240540        produce  \n",
       "7240539        produce  \n",
       "2258351     dairy eggs  "
      ]
     },
     "execution_count": 19,
     "metadata": {},
     "output_type": "execute_result"
    }
   ],
   "source": [
    "# Merge with departments\n",
    "\n",
    "df = pd.merge(df, departments, on=\"department_id\").sort_values(by=['order_id'])\n",
    "df.head()"
   ]
  },
  {
   "cell_type": "code",
   "execution_count": 20,
   "id": "f77fc269",
   "metadata": {},
   "outputs": [
    {
     "name": "stdout",
     "output_type": "stream",
     "text": [
      "<class 'pandas.core.frame.DataFrame'>\n",
      "Int64Index: 33819106 entries, 3035339 to 33477267\n",
      "Data columns (total 15 columns):\n",
      " #   Column                  Dtype  \n",
      "---  ------                  -----  \n",
      " 0   order_id                int64  \n",
      " 1   product_id              int64  \n",
      " 2   add_to_cart_order       int64  \n",
      " 3   reordered               int64  \n",
      " 4   product_name            object \n",
      " 5   aisle_id                int64  \n",
      " 6   department_id           int64  \n",
      " 7   user_id                 int64  \n",
      " 8   eval_set                object \n",
      " 9   order_number            int64  \n",
      " 10  order_dow               int64  \n",
      " 11  order_hour_of_day       int64  \n",
      " 12  days_since_prior_order  float64\n",
      " 13  aisle                   object \n",
      " 14  department              object \n",
      "dtypes: float64(1), int64(10), object(4)\n",
      "memory usage: 4.0+ GB\n"
     ]
    }
   ],
   "source": [
    "df.info()"
   ]
  },
  {
   "cell_type": "markdown",
   "id": "c6e0a3b9",
   "metadata": {},
   "source": [
    "# Data Transformation"
   ]
  },
  {
   "cell_type": "code",
   "execution_count": 21,
   "id": "5d4a97a4",
   "metadata": {},
   "outputs": [
    {
     "data": {
      "text/html": [
       "<div>\n",
       "<style scoped>\n",
       "    .dataframe tbody tr th:only-of-type {\n",
       "        vertical-align: middle;\n",
       "    }\n",
       "\n",
       "    .dataframe tbody tr th {\n",
       "        vertical-align: top;\n",
       "    }\n",
       "\n",
       "    .dataframe thead th {\n",
       "        text-align: right;\n",
       "    }\n",
       "</style>\n",
       "<table border=\"1\" class=\"dataframe\">\n",
       "  <thead>\n",
       "    <tr style=\"text-align: right;\">\n",
       "      <th></th>\n",
       "      <th>order_id</th>\n",
       "      <th>product_id</th>\n",
       "      <th>add_to_cart_order</th>\n",
       "      <th>reordered</th>\n",
       "      <th>product_name</th>\n",
       "      <th>aisle_id</th>\n",
       "      <th>department_id</th>\n",
       "      <th>user_id</th>\n",
       "      <th>eval_set</th>\n",
       "      <th>order_number</th>\n",
       "      <th>order_dow</th>\n",
       "      <th>order_hour_of_day</th>\n",
       "      <th>days_since_prior_order</th>\n",
       "      <th>aisle</th>\n",
       "      <th>department</th>\n",
       "    </tr>\n",
       "  </thead>\n",
       "  <tbody>\n",
       "    <tr>\n",
       "      <th>3035339</th>\n",
       "      <td>1</td>\n",
       "      <td>49302</td>\n",
       "      <td>1</td>\n",
       "      <td>1</td>\n",
       "      <td>Bulgarian Yogurt</td>\n",
       "      <td>120</td>\n",
       "      <td>16</td>\n",
       "      <td>112108</td>\n",
       "      <td>train</td>\n",
       "      <td>4</td>\n",
       "      <td>Wed</td>\n",
       "      <td>10</td>\n",
       "      <td>9.0</td>\n",
       "      <td>yogurt</td>\n",
       "      <td>dairy eggs</td>\n",
       "    </tr>\n",
       "    <tr>\n",
       "      <th>30448492</th>\n",
       "      <td>1</td>\n",
       "      <td>43633</td>\n",
       "      <td>5</td>\n",
       "      <td>1</td>\n",
       "      <td>Lightly Smoked Sardines in Olive Oil</td>\n",
       "      <td>95</td>\n",
       "      <td>15</td>\n",
       "      <td>112108</td>\n",
       "      <td>train</td>\n",
       "      <td>4</td>\n",
       "      <td>Wed</td>\n",
       "      <td>10</td>\n",
       "      <td>9.0</td>\n",
       "      <td>canned meat seafood</td>\n",
       "      <td>canned goods</td>\n",
       "    </tr>\n",
       "    <tr>\n",
       "      <th>7240540</th>\n",
       "      <td>1</td>\n",
       "      <td>10246</td>\n",
       "      <td>3</td>\n",
       "      <td>0</td>\n",
       "      <td>Organic Celery Hearts</td>\n",
       "      <td>83</td>\n",
       "      <td>4</td>\n",
       "      <td>112108</td>\n",
       "      <td>train</td>\n",
       "      <td>4</td>\n",
       "      <td>Wed</td>\n",
       "      <td>10</td>\n",
       "      <td>9.0</td>\n",
       "      <td>fresh vegetables</td>\n",
       "      <td>produce</td>\n",
       "    </tr>\n",
       "    <tr>\n",
       "      <th>7240539</th>\n",
       "      <td>1</td>\n",
       "      <td>49683</td>\n",
       "      <td>4</td>\n",
       "      <td>0</td>\n",
       "      <td>Cucumber Kirby</td>\n",
       "      <td>83</td>\n",
       "      <td>4</td>\n",
       "      <td>112108</td>\n",
       "      <td>train</td>\n",
       "      <td>4</td>\n",
       "      <td>Wed</td>\n",
       "      <td>10</td>\n",
       "      <td>9.0</td>\n",
       "      <td>fresh vegetables</td>\n",
       "      <td>produce</td>\n",
       "    </tr>\n",
       "    <tr>\n",
       "      <th>2258351</th>\n",
       "      <td>1</td>\n",
       "      <td>11109</td>\n",
       "      <td>2</td>\n",
       "      <td>1</td>\n",
       "      <td>Organic 4% Milk Fat Whole Milk Cottage Cheese</td>\n",
       "      <td>108</td>\n",
       "      <td>16</td>\n",
       "      <td>112108</td>\n",
       "      <td>train</td>\n",
       "      <td>4</td>\n",
       "      <td>Wed</td>\n",
       "      <td>10</td>\n",
       "      <td>9.0</td>\n",
       "      <td>other creams cheeses</td>\n",
       "      <td>dairy eggs</td>\n",
       "    </tr>\n",
       "  </tbody>\n",
       "</table>\n",
       "</div>"
      ],
      "text/plain": [
       "          order_id  product_id  add_to_cart_order  reordered  \\\n",
       "3035339          1       49302                  1          1   \n",
       "30448492         1       43633                  5          1   \n",
       "7240540          1       10246                  3          0   \n",
       "7240539          1       49683                  4          0   \n",
       "2258351          1       11109                  2          1   \n",
       "\n",
       "                                           product_name  aisle_id  \\\n",
       "3035339                                Bulgarian Yogurt       120   \n",
       "30448492           Lightly Smoked Sardines in Olive Oil        95   \n",
       "7240540                           Organic Celery Hearts        83   \n",
       "7240539                                  Cucumber Kirby        83   \n",
       "2258351   Organic 4% Milk Fat Whole Milk Cottage Cheese       108   \n",
       "\n",
       "          department_id  user_id eval_set  order_number order_dow  \\\n",
       "3035339              16   112108    train             4       Wed   \n",
       "30448492             15   112108    train             4       Wed   \n",
       "7240540               4   112108    train             4       Wed   \n",
       "7240539               4   112108    train             4       Wed   \n",
       "2258351              16   112108    train             4       Wed   \n",
       "\n",
       "          order_hour_of_day  days_since_prior_order                 aisle  \\\n",
       "3035339                  10                     9.0                yogurt   \n",
       "30448492                 10                     9.0   canned meat seafood   \n",
       "7240540                  10                     9.0      fresh vegetables   \n",
       "7240539                  10                     9.0      fresh vegetables   \n",
       "2258351                  10                     9.0  other creams cheeses   \n",
       "\n",
       "            department  \n",
       "3035339     dairy eggs  \n",
       "30448492  canned goods  \n",
       "7240540        produce  \n",
       "7240539        produce  \n",
       "2258351     dairy eggs  "
      ]
     },
     "execution_count": 21,
     "metadata": {},
     "output_type": "execute_result"
    }
   ],
   "source": [
    "# Encode 0,1,2 to Sat, Sun, Mon\n",
    "\n",
    "days_in_a_week = ['Sat', 'Sun', 'Mon', 'Tues', 'Wed', 'Thurs', 'Fri']\n",
    "df_with_days = df.copy()\n",
    "df_with_days['order_dow'] = df_with_days['order_dow'].apply(lambda x: days_in_a_week[x])\n",
    "\n",
    "# Make sure that the days are not sorted when plotting\n",
    "df_with_days['order_dow']=pd.Categorical(df_with_days['order_dow'],categories=df_with_days['order_dow'].unique(),ordered=True)\n",
    "\n",
    "df_with_days.head()"
   ]
  },
  {
   "cell_type": "markdown",
   "id": "55e303b9",
   "metadata": {},
   "source": [
    "# Seaborn Theme Settings"
   ]
  },
  {
   "cell_type": "code",
   "execution_count": 22,
   "id": "6658914a",
   "metadata": {},
   "outputs": [],
   "source": [
    "sns.set_theme(style='darkgrid', palette=sns.color_palette(\"Set2\"))"
   ]
  },
  {
   "cell_type": "markdown",
   "id": "1d93226a",
   "metadata": {},
   "source": [
    "# Exploratory Data Analysis"
   ]
  },
  {
   "cell_type": "markdown",
   "id": "003e3823",
   "metadata": {},
   "source": [
    "## 1. When do people reorder products on a typical day? (Code 1.1)"
   ]
  },
  {
   "cell_type": "markdown",
   "id": "e9e16834",
   "metadata": {},
   "source": [
    "### Code 1.1.1"
   ]
  },
  {
   "cell_type": "code",
   "execution_count": 23,
   "id": "b8780087",
   "metadata": {},
   "outputs": [],
   "source": [
    "# Calculate the mean\n",
    "reordered_order_df = df.groupby([\"order_dow\", \"order_hour_of_day\"])[\"reordered\"].aggregate(\"mean\").reset_index()\n",
    "\n",
    "# Encode number into days\n",
    "reordered_order_df['order_dow'] = reordered_order_df['order_dow'].apply(lambda x: days_in_a_week[x])\n",
    "\n",
    "# Make sure that the days are not sorted when plotting\n",
    "reordered_order_df['order_dow']=pd.Categorical(reordered_order_df['order_dow'],categories=reordered_order_df['order_dow'].unique(),ordered=True)\n",
    "\n",
    "# Make a pivot table\n",
    "reordered_order_df = reordered_order_df.pivot('order_dow', 'order_hour_of_day', 'reordered')"
   ]
  },
  {
   "cell_type": "markdown",
   "id": "086e7366",
   "metadata": {},
   "source": [
    "### Code 1.1.2"
   ]
  },
  {
   "cell_type": "code",
   "execution_count": 24,
   "id": "7e11603e",
   "metadata": {},
   "outputs": [
    {
     "data": {
      "image/png": "[encoded data removed]",
      "text/plain": [
       "<Figure size 1152x720 with 2 Axes>"
      ]
     },
     "metadata": {},
     "output_type": "display_data"
    }
   ],
   "source": [
    "plt.figure(figsize=(16,10))\n",
    "\n",
    "sns.heatmap(reordered_order_df, cmap=\"PiYG\")\n",
    "\n",
    "plt.title('Reorder ratio of Order Day against Order Hour', fontsize=18, pad=14)\n",
    "plt.xlabel('Order Hour', fontsize=16, labelpad=14)\n",
    "plt.ylabel('Order Day', fontsize=16, labelpad=14)\n",
    "plt.yticks(fontsize=13)\n",
    "plt.xticks(rotation='vertical', fontsize=13)\n",
    "plt.show()"
   ]
  },
  {
   "cell_type": "markdown",
   "id": "49891d74",
   "metadata": {},
   "source": [
    "## 2. How does the cart position correlate with reorders? (Code 1.2)"
   ]
  },
  {
   "cell_type": "markdown",
   "id": "26c19135",
   "metadata": {},
   "source": [
    "### Code 1.2.1"
   ]
  },
  {
   "cell_type": "code",
   "execution_count": 25,
   "id": "54a308b6",
   "metadata": {},
   "outputs": [],
   "source": [
    "df[\"add_to_cart_and_order_pos\"] = df[\"add_to_cart_order\"].copy()"
   ]
  },
  {
   "cell_type": "markdown",
   "id": "c6e1d794",
   "metadata": {},
   "source": [
    "### Code 1.2.2"
   ]
  },
  {
   "cell_type": "code",
   "execution_count": 26,
   "id": "5e5ceca9",
   "metadata": {},
   "outputs": [
    {
     "name": "stderr",
     "output_type": "stream",
     "text": [
      "/Users/jasonbeh/opt/anaconda3/lib/python3.8/site-packages/seaborn/_decorators.py:36: FutureWarning: Pass the following variable as a keyword arg: x. From version 0.12, the only valid positional argument will be `data`, and passing other arguments without an explicit keyword will result in an error or misinterpretation.\n",
      "  warnings.warn(\n"
     ]
    },
    {
     "data": {
      "image/png": "[encoded data removed]",
      "text/plain": [
       "<Figure size 1152x720 with 1 Axes>"
      ]
     },
     "metadata": {},
     "output_type": "display_data"
    }
   ],
   "source": [
    "plt.figure(figsize=(16,10))\n",
    "sns.countplot(df[\"add_to_cart_and_order_pos\"])\n",
    "plt.title('Number of items of each cart position', fontsize=18, pad=14)\n",
    "plt.xlabel('Cart Position', fontsize=16, labelpad=14)\n",
    "plt.ylabel('Frequency', fontsize=16, labelpad=14)\n",
    "plt.yticks(fontsize=13)\n",
    "plt.xticks(rotation='vertical', fontsize=13)\n",
    "\n",
    "plt.show()"
   ]
  },
  {
   "cell_type": "markdown",
   "id": "c212e63c",
   "metadata": {},
   "source": [
    "Here we see that the reorders above the 60th cart positions is very small, therefore we will filter until 60."
   ]
  },
  {
   "cell_type": "markdown",
   "id": "4e76d384",
   "metadata": {},
   "source": [
    "### Code 1.2.3"
   ]
  },
  {
   "cell_type": "code",
   "execution_count": 27,
   "id": "7383f9ab",
   "metadata": {},
   "outputs": [
    {
     "name": "stderr",
     "output_type": "stream",
     "text": [
      "/Users/jasonbeh/opt/anaconda3/lib/python3.8/site-packages/seaborn/_decorators.py:36: FutureWarning: Pass the following variables as keyword args: x, y. From version 0.12, the only valid positional argument will be `data`, and passing other arguments without an explicit keyword will result in an error or misinterpretation.\n",
      "  warnings.warn(\n"
     ]
    },
    {
     "data": {
      "image/png": "[encoded data removed]",
      "text/plain": [
       "<Figure size 1152x720 with 1 Axes>"
      ]
     },
     "metadata": {},
     "output_type": "display_data"
    }
   ],
   "source": [
    "# Filter until 60th position\n",
    "temp_df = df[df[\"add_to_cart_and_order_pos\"] <= 60]\n",
    "\n",
    "# Create a new dataframe with the mean of position and reorder ratio\n",
    "cart_position_reorder_df = temp_df.groupby([\"add_to_cart_and_order_pos\"])[\"reordered\"].aggregate(\"mean\").reset_index()\n",
    "\n",
    "# Plot graph\n",
    "plt.figure(figsize=(16,10))\n",
    "sns.pointplot(cart_position_reorder_df['add_to_cart_and_order_pos'].values, cart_position_reorder_df['reordered'].values)\n",
    "plt.title(\"Reorder ratio against cart position\", fontsize=18, pad=14)\n",
    "plt.ylabel('Reorder ratio', fontsize=16, labelpad=14)\n",
    "plt.xlabel('Cart Position', fontsize=16, labelpad=14)\n",
    "plt.yticks(fontsize=13)\n",
    "plt.xticks(rotation='vertical', fontsize=13)\n",
    "\n",
    "plt.show()"
   ]
  },
  {
   "cell_type": "markdown",
   "id": "f8011ad4",
   "metadata": {},
   "source": [
    "### Code 1.2.4"
   ]
  },
  {
   "cell_type": "code",
   "execution_count": 28,
   "id": "8f2b8372",
   "metadata": {},
   "outputs": [
    {
     "data": {
      "text/plain": [
       "(-0.8718121836256699, 1.255555720281148e-19)"
      ]
     },
     "execution_count": 28,
     "metadata": {},
     "output_type": "execute_result"
    }
   ],
   "source": [
    "st.pearsonr(cart_position_reorder_df['add_to_cart_and_order_pos'].to_numpy(), cart_position_reorder_df['reordered'].to_numpy())"
   ]
  },
  {
   "cell_type": "markdown",
   "id": "30132f3a",
   "metadata": {},
   "source": [
    "## 3. How many days do people wait before reordering? (Code 1.3)"
   ]
  },
  {
   "cell_type": "markdown",
   "id": "b326e939",
   "metadata": {},
   "source": [
    "### Code 1.3.1"
   ]
  },
  {
   "cell_type": "code",
   "execution_count": 29,
   "id": "3d50a508",
   "metadata": {},
   "outputs": [
    {
     "data": {
      "image/png": "[encoded data removed]",
      "text/plain": [
       "<Figure size 1152x720 with 1 Axes>"
      ]
     },
     "metadata": {},
     "output_type": "display_data"
    }
   ],
   "source": [
    "plt.figure(figsize=(16,10))\n",
    "ax = df['days_since_prior_order'].value_counts().sort_index().plot.bar()\n",
    "ax = df[df['reordered']==1].groupby(['days_since_prior_order']).size().sort_index().plot.bar(color = '#EE8B99')\n",
    "\n",
    "plt.title('Frequency of Days Passed Before Reordering', fontsize=18, pad=14)\n",
    "plt.xlabel(\"Days Since Prior Order\", fontsize=16, labelpad=14)\n",
    "plt.ylabel(\"Frequency\", fontsize=16, labelpad=14)\n",
    "plt.legend([\"All Orders\", \"Reorders\"])\n",
    "plt.yticks(fontsize=13)\n",
    "plt.xticks(rotation='vertical', fontsize=13)\n",
    "\n",
    "plt.show()"
   ]
  },
  {
   "cell_type": "markdown",
   "id": "76e6c141",
   "metadata": {},
   "source": [
    "## 4. Which products are frequently reordered?"
   ]
  },
  {
   "cell_type": "code",
   "execution_count": 30,
   "id": "07194e66",
   "metadata": {},
   "outputs": [],
   "source": [
    "reordered_products_df = df.groupby('product_name')['reordered'].count().sort_values(ascending = False)[:10].reset_index()"
   ]
  },
  {
   "cell_type": "code",
   "execution_count": 31,
   "id": "9f27dcf9",
   "metadata": {},
   "outputs": [
    {
     "data": {
      "image/png": "[encoded data removed]",
      "text/plain": [
       "<Figure size 1152x720 with 1 Axes>"
      ]
     },
     "metadata": {},
     "output_type": "display_data"
    }
   ],
   "source": [
    "plt.figure(figsize=(16,10))\n",
    "\n",
    "graph = sns.barplot(data=reordered_products_df, x=\"product_name\", y=\"reordered\")\n",
    "\n",
    "plt.title('Most Frequently Reordered Products', fontsize=18, pad=14)\n",
    "plt.xlabel('Product Name', fontsize=16, labelpad=14)\n",
    "plt.ylabel('Frequency', fontsize=16, labelpad=14)\n",
    "plt.yticks(fontsize=13)\n",
    "plt.xticks(rotation='vertical', fontsize=13)\n",
    "\n",
    "# Add text above each barplot\n",
    "for index, row in reordered_products_df.iterrows():\n",
    "    graph.text(row.name,row.reordered, round(row.reordered,2), color='black', ha=\"center\")"
   ]
  },
  {
   "cell_type": "markdown",
   "id": "1cd5882f",
   "metadata": {},
   "source": [
    "## 5. Which aisles have the most orders?"
   ]
  },
  {
   "cell_type": "code",
   "execution_count": 32,
   "id": "2a13e080",
   "metadata": {},
   "outputs": [
    {
     "data": {
      "text/html": [
       "<div>\n",
       "<style scoped>\n",
       "    .dataframe tbody tr th:only-of-type {\n",
       "        vertical-align: middle;\n",
       "    }\n",
       "\n",
       "    .dataframe tbody tr th {\n",
       "        vertical-align: top;\n",
       "    }\n",
       "\n",
       "    .dataframe thead th {\n",
       "        text-align: right;\n",
       "    }\n",
       "</style>\n",
       "<table border=\"1\" class=\"dataframe\">\n",
       "  <thead>\n",
       "    <tr style=\"text-align: right;\">\n",
       "      <th></th>\n",
       "      <th>aisle</th>\n",
       "      <th>order_id</th>\n",
       "    </tr>\n",
       "  </thead>\n",
       "  <tbody>\n",
       "    <tr>\n",
       "      <th>0</th>\n",
       "      <td>fresh fruits</td>\n",
       "      <td>3792661</td>\n",
       "    </tr>\n",
       "    <tr>\n",
       "      <th>1</th>\n",
       "      <td>fresh vegetables</td>\n",
       "      <td>3568630</td>\n",
       "    </tr>\n",
       "    <tr>\n",
       "      <th>2</th>\n",
       "      <td>packaged vegetables fruits</td>\n",
       "      <td>1843806</td>\n",
       "    </tr>\n",
       "    <tr>\n",
       "      <th>3</th>\n",
       "      <td>yogurt</td>\n",
       "      <td>1507583</td>\n",
       "    </tr>\n",
       "    <tr>\n",
       "      <th>4</th>\n",
       "      <td>packaged cheese</td>\n",
       "      <td>1021462</td>\n",
       "    </tr>\n",
       "  </tbody>\n",
       "</table>\n",
       "</div>"
      ],
      "text/plain": [
       "                        aisle  order_id\n",
       "0                fresh fruits   3792661\n",
       "1            fresh vegetables   3568630\n",
       "2  packaged vegetables fruits   1843806\n",
       "3                      yogurt   1507583\n",
       "4             packaged cheese   1021462"
      ]
     },
     "execution_count": 32,
     "metadata": {},
     "output_type": "execute_result"
    }
   ],
   "source": [
    "aisle_orders_df = df.groupby('aisle')['order_id'].count().sort_values(ascending = False)[:15].reset_index()\n",
    "aisle_orders_df.head()"
   ]
  },
  {
   "cell_type": "code",
   "execution_count": 33,
   "id": "14801771",
   "metadata": {},
   "outputs": [
    {
     "data": {
      "image/png": "[encoded data removed]",
      "text/plain": [
       "<Figure size 1152x720 with 1 Axes>"
      ]
     },
     "metadata": {},
     "output_type": "display_data"
    }
   ],
   "source": [
    "plt.figure(figsize=(16,10))\n",
    "\n",
    "graph = sns.barplot(data=aisle_orders_df, x=\"aisle\", y=\"order_id\")\n",
    "\n",
    "plt.title('Most Frequently Ordered Product Aisle', fontsize=18, pad=14)\n",
    "plt.xlabel('Aisle', fontsize=16, labelpad=14)\n",
    "plt.ylabel('Frequency', fontsize=16, labelpad=14)\n",
    "plt.yticks(fontsize=13)\n",
    "plt.xticks(rotation='vertical', fontsize=13)\n",
    "\n",
    "# Add text above each barplot\n",
    "for index, row in aisle_orders_df.iterrows():\n",
    "    graph.text(row.name,row.order_id, round(row.order_id,2), color='black', ha=\"center\")"
   ]
  },
  {
   "cell_type": "markdown",
   "id": "ba1ff0ad",
   "metadata": {},
   "source": [
    "## 6. What are the order frequency for each day?"
   ]
  },
  {
   "cell_type": "code",
   "execution_count": 34,
   "id": "72d1e458",
   "metadata": {},
   "outputs": [
    {
     "data": {
      "image/png": "[encoded data removed]",
      "text/plain": [
       "<Figure size 1152x720 with 1 Axes>"
      ]
     },
     "metadata": {},
     "output_type": "display_data"
    }
   ],
   "source": [
    "plt.figure(figsize=(16,10))\n",
    "\n",
    "ax = df['order_dow'].value_counts().plot.bar()\n",
    "ax = df[df['reordered']==1].groupby(['order_dow']).size().plot.bar(color = '#EE8B99')\n",
    "\n",
    "plt.xlabel(\"Days of Week\", fontsize=16, labelpad=14)\n",
    "plt.ylabel(\"Frequency\", fontsize=16, labelpad=14)\n",
    "plt.title('Orders Frequency On A Given Day Of The Week', fontsize=18, pad=14)\n",
    "plt.legend([\"All Orders\", \"Reorders\"])\n",
    "plt.xticks([0,1,2,3,4,5,6], ['Sat', 'Sun', 'Mon', 'Tues', 'Wed', 'Thurs', 'Fri'])\n",
    "plt.yticks(fontsize=13)\n",
    "plt.xticks(rotation='vertical', fontsize=13)\n",
    "\n",
    "plt.show()"
   ]
  },
  {
   "cell_type": "markdown",
   "id": "943c47db",
   "metadata": {},
   "source": [
    "# Research Experiments"
   ]
  },
  {
   "cell_type": "markdown",
   "id": "a8296e9e",
   "metadata": {},
   "source": [
    "# 1. What day do people reorder their groceries, now that we have a 24/7 online grocery shopping app? (Code 2.1)"
   ]
  },
  {
   "cell_type": "markdown",
   "id": "f465f094",
   "metadata": {},
   "source": [
    "### Code 2.1.1"
   ]
  },
  {
   "cell_type": "code",
   "execution_count": 35,
   "id": "856a54a3",
   "metadata": {},
   "outputs": [
    {
     "data": {
      "text/plain": [
       "array([4, 4, 4, ..., 2, 2, 2])"
      ]
     },
     "execution_count": 35,
     "metadata": {},
     "output_type": "execute_result"
    }
   ],
   "source": [
    "data_np = df[df['reordered']==1]['order_dow'].to_numpy()\n",
    "data_np"
   ]
  },
  {
   "cell_type": "markdown",
   "id": "08cfd259",
   "metadata": {},
   "source": [
    "### Code 2.1.2"
   ]
  },
  {
   "cell_type": "code",
   "execution_count": 36,
   "id": "83b8948c",
   "metadata": {},
   "outputs": [
    {
     "data": {
      "text/plain": [
       "2.7251561485235043"
      ]
     },
     "execution_count": 36,
     "metadata": {},
     "output_type": "execute_result"
    }
   ],
   "source": [
    "np.mean(data_np)"
   ]
  },
  {
   "cell_type": "markdown",
   "id": "f4efcb1d",
   "metadata": {},
   "source": [
    "Our population mean is 2.72515."
   ]
  },
  {
   "cell_type": "markdown",
   "id": "d300cb1c",
   "metadata": {},
   "source": [
    "## Hypothesis"
   ]
  },
  {
   "cell_type": "markdown",
   "id": "53c63711",
   "metadata": {},
   "source": [
    "H0: Most reorders happen on Monday and Tuesday (µ = 2.7252).\n",
    "\n",
    "H1: Most reorders do not happen on Monday and Tuesday (µ ≠ 2.7252)."
   ]
  },
  {
   "cell_type": "markdown",
   "id": "695178e0",
   "metadata": {},
   "source": [
    "### Code 2.1.3"
   ]
  },
  {
   "cell_type": "code",
   "execution_count": 37,
   "id": "b8605ef7",
   "metadata": {},
   "outputs": [],
   "source": [
    "np.random.seed(11234234)\n",
    "sample = np.random.choice(data_np, 500, False)"
   ]
  },
  {
   "cell_type": "markdown",
   "id": "8605cf34",
   "metadata": {},
   "source": [
    "### Code 2.1.4"
   ]
  },
  {
   "cell_type": "code",
   "execution_count": 38,
   "id": "db58b3c1",
   "metadata": {},
   "outputs": [
    {
     "data": {
      "text/plain": [
       "(-2.7039033713192917, 0.006853021449562536)"
      ]
     },
     "execution_count": 38,
     "metadata": {},
     "output_type": "execute_result"
    }
   ],
   "source": [
    "stests.ztest(sample, value=np.mean(data_np), alternative=\"two-sided\")"
   ]
  },
  {
   "cell_type": "markdown",
   "id": "032eaf69",
   "metadata": {},
   "source": [
    "### Conclusion: We do not reject the null hypothesis as -1.343 > -1.96 at 5% significant level. There is insufficient evidence to suggest that most reorders do not happen on Monday and Tuesday."
   ]
  },
  {
   "cell_type": "markdown",
   "id": "feb6b604",
   "metadata": {},
   "source": [
    "# 2. Does the position of the cart affect reorders? (Code 2.2)"
   ]
  },
  {
   "cell_type": "markdown",
   "id": "60a2c010",
   "metadata": {},
   "source": [
    "### Code 2.2.1"
   ]
  },
  {
   "cell_type": "code",
   "execution_count": 39,
   "id": "2351d47d",
   "metadata": {},
   "outputs": [
    {
     "data": {
      "text/plain": [
       "array([1, 5, 2, ..., 6, 9, 4])"
      ]
     },
     "execution_count": 39,
     "metadata": {},
     "output_type": "execute_result"
    }
   ],
   "source": [
    "data_np = df[df['reordered']==1]['add_to_cart_order'].to_numpy()\n",
    "data_np"
   ]
  },
  {
   "cell_type": "markdown",
   "id": "bcaa904b",
   "metadata": {},
   "source": [
    "### Code 2.2.2"
   ]
  },
  {
   "cell_type": "code",
   "execution_count": 40,
   "id": "deb2f7ae",
   "metadata": {},
   "outputs": [
    {
     "data": {
      "text/plain": [
       "7.573082219513955"
      ]
     },
     "execution_count": 40,
     "metadata": {},
     "output_type": "execute_result"
    }
   ],
   "source": [
    "np.mean(data_np)"
   ]
  },
  {
   "cell_type": "markdown",
   "id": "c1b694a4",
   "metadata": {},
   "source": [
    "Our population mean is 7.5731."
   ]
  },
  {
   "cell_type": "markdown",
   "id": "322d7959",
   "metadata": {},
   "source": [
    "## Hypothesis"
   ]
  },
  {
   "cell_type": "markdown",
   "id": "01ac6aa5",
   "metadata": {},
   "source": [
    "H0: The mean cart position for reorders is 7.5731 (µ = 7.5731).\n",
    "\n",
    "H1: The mean cart position for reorders is more than 7.5731 (µ ≠ 7.5731)."
   ]
  },
  {
   "cell_type": "markdown",
   "id": "1a2d5c84",
   "metadata": {},
   "source": [
    "### Code 2.2.3"
   ]
  },
  {
   "cell_type": "code",
   "execution_count": 41,
   "id": "82be0443",
   "metadata": {},
   "outputs": [],
   "source": [
    "np.random.seed(11234234)\n",
    "sample = np.random.choice(data_np, 500, False)"
   ]
  },
  {
   "cell_type": "markdown",
   "id": "135fe9c3",
   "metadata": {},
   "source": [
    "### Code 2.2.4"
   ]
  },
  {
   "cell_type": "code",
   "execution_count": 42,
   "id": "7f11435b",
   "metadata": {},
   "outputs": [
    {
     "data": {
      "text/plain": [
       "(-1.249546235116558, 0.8942673230856557)"
      ]
     },
     "execution_count": 42,
     "metadata": {},
     "output_type": "execute_result"
    }
   ],
   "source": [
    "stests.ztest(sample, value=np.mean(data_np), alternative=\"larger\")"
   ]
  },
  {
   "cell_type": "markdown",
   "id": "83897a0d",
   "metadata": {},
   "source": [
    "### Conclusion: We do not reject the null hypothesis as -0.8933 > - 1.96 at 5% significant level. There is insufficient evidence to suggest that the mean cart position for reorders is more than 7.5731."
   ]
  },
  {
   "cell_type": "markdown",
   "id": "5518d0dc",
   "metadata": {},
   "source": [
    "# 3. How many days do people wait before reordering?"
   ]
  },
  {
   "cell_type": "markdown",
   "id": "2dd770e4",
   "metadata": {},
   "source": [
    "### Code 2.3.1"
   ]
  },
  {
   "cell_type": "code",
   "execution_count": 43,
   "id": "218641b3",
   "metadata": {},
   "outputs": [],
   "source": [
    "data_np = df[df['reordered']==1]['days_since_prior_order'].to_numpy()"
   ]
  },
  {
   "cell_type": "markdown",
   "id": "29adb064",
   "metadata": {},
   "source": [
    "### Code 2.3.2"
   ]
  },
  {
   "cell_type": "code",
   "execution_count": 44,
   "id": "2402e6f2",
   "metadata": {},
   "outputs": [
    {
     "data": {
      "text/plain": [
       "10.438599303645738"
      ]
     },
     "execution_count": 44,
     "metadata": {},
     "output_type": "execute_result"
    }
   ],
   "source": [
    "np.mean(data_np)"
   ]
  },
  {
   "cell_type": "markdown",
   "id": "93959710",
   "metadata": {},
   "source": [
    "## Hypothesis"
   ]
  },
  {
   "attachments": {},
   "cell_type": "markdown",
   "id": "2ef51b0d",
   "metadata": {},
   "source": [
    "H0: The mean days before most people reorders is 10.4386 (µ = 10.4386).\n",
    "\n",
    "H1: The mean days before most people reorders is more than 10.4386 (µ > 10.4386)."
   ]
  },
  {
   "cell_type": "markdown",
   "id": "1de81b3b",
   "metadata": {},
   "source": [
    "### Code 2.3.3"
   ]
  },
  {
   "cell_type": "code",
   "execution_count": 45,
   "id": "6e45d8ff",
   "metadata": {},
   "outputs": [],
   "source": [
    "np.random.seed(11234234)\n",
    "sample = np.random.choice(data_np, 500, False)"
   ]
  },
  {
   "cell_type": "markdown",
   "id": "e1cf4f35",
   "metadata": {},
   "source": [
    "### Code 2.3.4"
   ]
  },
  {
   "cell_type": "code",
   "execution_count": 46,
   "id": "e2e4029a",
   "metadata": {},
   "outputs": [
    {
     "data": {
      "text/plain": [
       "(0.7449170890746551, 0.7718390782099286)"
      ]
     },
     "execution_count": 46,
     "metadata": {},
     "output_type": "execute_result"
    }
   ],
   "source": [
    "stests.ztest(sample, value=np.mean(data_np), alternative=\"smaller\")"
   ]
  },
  {
   "attachments": {},
   "cell_type": "markdown",
   "id": "3e5ef211",
   "metadata": {},
   "source": [
    "### Conclusion: We do not reject the null hypothesis as 0.7449 < 1.96 at 5% significant level. There is insufficient evidence to suggest that the mean days before most people reorders is more than 10.4386."
   ]
  }
 ],
 "metadata": {
  "kernelspec": {
   "display_name": "Python 3",
   "language": "python",
   "name": "python3"
  },
  "language_info": {
   "codemirror_mode": {
    "name": "ipython",
    "version": 3
   },
   "file_extension": ".py",
   "mimetype": "text/x-python",
   "name": "python",
   "nbconvert_exporter": "python",
   "pygments_lexer": "ipython3",
   "version": "3.8.8"
  }
 },
 "nbformat": 4,
 "nbformat_minor": 5
}
